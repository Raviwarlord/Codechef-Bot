{
 "cells": [
  {
   "cell_type": "code",
   "execution_count": 1,
   "metadata": {},
   "outputs": [
    {
     "name": "stdout",
     "output_type": "stream",
     "text": [
      "Collecting selenium\n",
      "  Using cached selenium-3.141.0-py2.py3-none-any.whl (904 kB)\n",
      "Collecting urllib3\n",
      "  Downloading urllib3-1.25.8-py2.py3-none-any.whl (125 kB)\n",
      "\u001b[K     |████████████████████████████████| 125 kB 368 kB/s eta 0:00:01\n",
      "\u001b[?25hInstalling collected packages: urllib3, selenium\n",
      "Successfully installed selenium-3.141.0 urllib3-1.25.8\n",
      "Note: you may need to restart the kernel to use updated packages.\n"
     ]
    }
   ],
   "source": [
    "pip install selenium"
   ]
  },
  {
   "cell_type": "code",
   "execution_count": 178,
   "metadata": {},
   "outputs": [],
   "source": [
    "from selenium import webdriver\n",
    "import time"
   ]
  },
  {
   "cell_type": "code",
   "execution_count": 177,
   "metadata": {},
   "outputs": [],
   "source": [
    "from selenium.webdriver.support.ui import Select\n",
    "class chefBot():\n",
    "    def __init__(self):\n",
    "        self.driver = webdriver.Chrome()\n",
    "    \n",
    "    def login(self):\n",
    "        self.driver.get(\"https://www.codechef.com\")\n",
    "        username = self.driver.find_element_by_xpath('/html/body/section/div/div/ul/div[1]/form[1]/div/div[1]/input')\n",
    "        password = self.driver.find_element_by_xpath('/html/body/section/div/div/ul/div[1]/form[1]/div/div[2]/input')\n",
    "        login_button = self.driver.find_element_by_xpath('/html/body/section/div/div/ul/div[1]/form[1]/div/input[4]')\n",
    "        \n",
    "        username.send_keys('Raviwarlord')\n",
    "        password.send_keys('TanX@23298')\n",
    "        login_button.click()\n",
    "    \n",
    "    def go_to_account_section(self):\n",
    "        hidden_button = self.driver.find_element_by_xpath('/html/body/section/div/div/ul/li[1]/span[2]/a/i')\n",
    "        hidden_button.click()\n",
    "        account_button = self.driver.find_element_by_xpath('/html/body/section/div/div/ul/li[1]/span[2]/ul/li[1]/a')\n",
    "        account_button.click()\n",
    "        \n",
    "    def get_links(self):\n",
    "        hrefs = []\n",
    "        parent = self.driver.find_element_by_class_name('problems-solved')\n",
    "        links = parent.find_elements_by_tag_name('a')\n",
    "        for link in links:\n",
    "            tmp = link.get_attribute('href')\n",
    "            hrefs.append(tmp)\n",
    "        return hrefs\n",
    "    \n",
    "    def get_ac_code_link(self, link):\n",
    "        self.driver.get(link)\n",
    "        time.sleep(3)\n",
    "        select = Select(self.driver.find_element_by_id('status'))\n",
    "        select.select_by_value('15')\n",
    "        go_button = self.driver.find_element_by_xpath('/html/body/center/center/table/tbody/tr/td/div/div/div/div/div[2]/div/form/table/tbody/tr/td[3]/input')\n",
    "        go_button.click()\n",
    "        time.sleep(3)\n",
    "        sol_link = self.driver.find_element_by_xpath('/html/body/center/center/table/tbody/tr/td/div/div/div/div/div[2]/div/div[3]/table/tbody/tr/td[8]/ul/li/a').get_attribute('href')\n",
    "        return sol_link"
   ]
  },
  {
   "cell_type": "code",
   "execution_count": 122,
   "metadata": {},
   "outputs": [],
   "source": [
    "bot = chefBot()"
   ]
  },
  {
   "cell_type": "code",
   "execution_count": 124,
   "metadata": {},
   "outputs": [],
   "source": [
    "bot.driver.get(\"https://www.codechef.com\")"
   ]
  },
  {
   "cell_type": "code",
   "execution_count": 125,
   "metadata": {},
   "outputs": [],
   "source": [
    "username = bot.driver.find_element_by_xpath('/html/body/section/div/div/ul/div[1]/form[1]/div/div[1]/input')"
   ]
  },
  {
   "cell_type": "code",
   "execution_count": 126,
   "metadata": {},
   "outputs": [],
   "source": [
    "password = bot.driver.find_element_by_xpath('/html/body/section/div/div/ul/div[1]/form[1]/div/div[2]/input')"
   ]
  },
  {
   "cell_type": "code",
   "execution_count": 127,
   "metadata": {},
   "outputs": [],
   "source": [
    "username.send_keys('Raviwarlord')\n",
    "password.send_keys('TanX@23298')"
   ]
  },
  {
   "cell_type": "code",
   "execution_count": 130,
   "metadata": {},
   "outputs": [],
   "source": [
    "login_button = bot.driver.find_element_by_xpath('/html/body/section/div/div/ul/div[1]/form[1]/div/input[4]')"
   ]
  },
  {
   "cell_type": "code",
   "execution_count": 131,
   "metadata": {},
   "outputs": [],
   "source": [
    "login_button.click()"
   ]
  },
  {
   "cell_type": "code",
   "execution_count": 132,
   "metadata": {},
   "outputs": [],
   "source": [
    "bot.go_to_account_section()"
   ]
  },
  {
   "cell_type": "code",
   "execution_count": 133,
   "metadata": {},
   "outputs": [],
   "source": [
    "l = bot.get_links()"
   ]
  },
  {
   "cell_type": "code",
   "execution_count": 135,
   "metadata": {},
   "outputs": [
    {
     "data": {
      "text/plain": [
       "[]"
      ]
     },
     "execution_count": 135,
     "metadata": {},
     "output_type": "execute_result"
    }
   ],
   "source": [
    "l"
   ]
  },
  {
   "cell_type": "code",
   "execution_count": 137,
   "metadata": {},
   "outputs": [],
   "source": [
    "bot = chefBot()"
   ]
  },
  {
   "cell_type": "code",
   "execution_count": 138,
   "metadata": {},
   "outputs": [],
   "source": [
    "bot.login()"
   ]
  },
  {
   "cell_type": "code",
   "execution_count": 139,
   "metadata": {},
   "outputs": [],
   "source": [
    "bot.go_to_account_section()"
   ]
  },
  {
   "cell_type": "code",
   "execution_count": 140,
   "metadata": {},
   "outputs": [],
   "source": [
    "l = bot.get_links()"
   ]
  },
  {
   "cell_type": "code",
   "execution_count": 158,
   "metadata": {},
   "outputs": [],
   "source": [
    "bot.driver.get(l[1])"
   ]
  },
  {
   "cell_type": "code",
   "execution_count": 159,
   "metadata": {},
   "outputs": [],
   "source": [
    "ele = bot.driver.find_element_by_xpath('/html/body/center/center/table/tbody/tr/td/div/div/div/div/div[2]/div/div[3]/table/tbody/tr/td[8]/ul/li/a')"
   ]
  },
  {
   "cell_type": "code",
   "execution_count": 160,
   "metadata": {},
   "outputs": [],
   "source": [
    "link = ele.get_attribute('href')"
   ]
  },
  {
   "cell_type": "code",
   "execution_count": 166,
   "metadata": {},
   "outputs": [],
   "source": [
    "from selenium.webdriver.support.ui import Select"
   ]
  },
  {
   "cell_type": "code",
   "execution_count": 167,
   "metadata": {},
   "outputs": [],
   "source": [
    "select = Select(bot.driver.find_element_by_id('status'))"
   ]
  },
  {
   "cell_type": "code",
   "execution_count": 169,
   "metadata": {},
   "outputs": [],
   "source": [
    "select.select_by_value('15')"
   ]
  },
  {
   "cell_type": "code",
   "execution_count": 170,
   "metadata": {},
   "outputs": [],
   "source": [
    "go_button = bot.driver.find_element_by_xpath('/html/body/center/center/table/tbody/tr/td/div/div/div/div/div[2]/div/form/table/tbody/tr/td[3]/input')"
   ]
  },
  {
   "cell_type": "code",
   "execution_count": 171,
   "metadata": {},
   "outputs": [],
   "source": [
    "go_button.click()"
   ]
  },
  {
   "cell_type": "code",
   "execution_count": 172,
   "metadata": {},
   "outputs": [],
   "source": [
    "sol_link = bot.driver.find_element_by_xpath('/html/body/center/center/table/tbody/tr/td/div/div/div/div/div[2]/div/div[3]/table/tbody/tr/td[8]/ul/li/a').get_attribute('href')"
   ]
  },
  {
   "cell_type": "code",
   "execution_count": 173,
   "metadata": {},
   "outputs": [],
   "source": [
    "bot.driver.get(sol_link)"
   ]
  },
  {
   "cell_type": "code",
   "execution_count": 174,
   "metadata": {},
   "outputs": [],
   "source": [
    "bot.driver.find_element_by_xpath('/html/body/main/div/section/div/section[1]/aside/div/div/div[2]/ul/li[2]/a/i').click()"
   ]
  },
  {
   "cell_type": "code",
   "execution_count": 179,
   "metadata": {},
   "outputs": [],
   "source": [
    "import time\n",
    "def driver_code():\n",
    "    bot = chefBot()\n",
    "    bot.login()\n",
    "    time.sleep(3)\n",
    "    bot.go_to_account_section()\n",
    "    links = bot.get_links()\n",
    "    for link in links:\n",
    "        tmp = bot.get_ac_code_link(link)\n",
    "        bot.driver.get(sol_link)\n",
    "        time.sleep(3)\n",
    "        bot.driver.find_element_by_xpath('/html/body/main/div/section/div/section[1]/aside/div/div/div[2]/ul/li[2]/a/i').click()"
   ]
  },
  {
   "cell_type": "code",
   "execution_count": 180,
   "metadata": {},
   "outputs": [
    {
     "ename": "NameError",
     "evalue": "name 'get_ac_code_link' is not defined",
     "output_type": "error",
     "traceback": [
      "\u001b[0;31m---------------------------------------------------------------------------\u001b[0m",
      "\u001b[0;31mNameError\u001b[0m                                 Traceback (most recent call last)",
      "\u001b[0;32m<ipython-input-180-4fd294986a12>\u001b[0m in \u001b[0;36m<module>\u001b[0;34m\u001b[0m\n\u001b[0;32m----> 1\u001b[0;31m \u001b[0mdriver_code\u001b[0m\u001b[0;34m(\u001b[0m\u001b[0;34m)\u001b[0m\u001b[0;34m\u001b[0m\u001b[0;34m\u001b[0m\u001b[0m\n\u001b[0m",
      "\u001b[0;32m<ipython-input-179-d39e190cf2a4>\u001b[0m in \u001b[0;36mdriver_code\u001b[0;34m()\u001b[0m\n\u001b[1;32m      7\u001b[0m     \u001b[0mlinks\u001b[0m \u001b[0;34m=\u001b[0m \u001b[0mbot\u001b[0m\u001b[0;34m.\u001b[0m\u001b[0mget_links\u001b[0m\u001b[0;34m(\u001b[0m\u001b[0;34m)\u001b[0m\u001b[0;34m\u001b[0m\u001b[0;34m\u001b[0m\u001b[0m\n\u001b[1;32m      8\u001b[0m     \u001b[0;32mfor\u001b[0m \u001b[0mlink\u001b[0m \u001b[0;32min\u001b[0m \u001b[0mlinks\u001b[0m\u001b[0;34m:\u001b[0m\u001b[0;34m\u001b[0m\u001b[0;34m\u001b[0m\u001b[0m\n\u001b[0;32m----> 9\u001b[0;31m         \u001b[0mtmp\u001b[0m \u001b[0;34m=\u001b[0m \u001b[0mget_ac_code_link\u001b[0m\u001b[0;34m(\u001b[0m\u001b[0mlink\u001b[0m\u001b[0;34m,\u001b[0m \u001b[0mbot\u001b[0m\u001b[0;34m)\u001b[0m\u001b[0;34m\u001b[0m\u001b[0;34m\u001b[0m\u001b[0m\n\u001b[0m\u001b[1;32m     10\u001b[0m         \u001b[0mbot\u001b[0m\u001b[0;34m.\u001b[0m\u001b[0mdriver\u001b[0m\u001b[0;34m.\u001b[0m\u001b[0mget\u001b[0m\u001b[0;34m(\u001b[0m\u001b[0msol_link\u001b[0m\u001b[0;34m)\u001b[0m\u001b[0;34m\u001b[0m\u001b[0;34m\u001b[0m\u001b[0m\n\u001b[1;32m     11\u001b[0m         \u001b[0mtime\u001b[0m\u001b[0;34m.\u001b[0m\u001b[0msleep\u001b[0m\u001b[0;34m(\u001b[0m\u001b[0;36m3\u001b[0m\u001b[0;34m)\u001b[0m\u001b[0;34m\u001b[0m\u001b[0;34m\u001b[0m\u001b[0m\n",
      "\u001b[0;31mNameError\u001b[0m: name 'get_ac_code_link' is not defined"
     ]
    }
   ],
   "source": [
    "driver_code()"
   ]
  },
  {
   "cell_type": "code",
   "execution_count": 153,
   "metadata": {},
   "outputs": [
    {
     "data": {
      "text/plain": [
       "['https://www.codechef.com/status/TRAINSET,raviwarlord',\n",
       " 'https://www.codechef.com/status/DISCSHOP,raviwarlord',\n",
       " 'https://www.codechef.com/status/ISHVALA,raviwarlord',\n",
       " 'https://www.codechef.com/status/PIPSQUIK,raviwarlord',\n",
       " 'https://www.codechef.com/status/MXCH,raviwarlord',\n",
       " 'https://www.codechef.com/status/HIT,raviwarlord',\n",
       " 'https://www.codechef.com/status/DIET,raviwarlord',\n",
       " 'https://www.codechef.com/status/ICM2008,raviwarlord',\n",
       " 'https://www.codechef.com/status/SLAB,raviwarlord',\n",
       " 'https://www.codechef.com/status/CHEFINSQ,raviwarlord',\n",
       " 'https://www.codechef.com/status/WALKFAST,raviwarlord',\n",
       " 'https://www.codechef.com/status/SAFEROBO,raviwarlord',\n",
       " 'https://www.codechef.com/status/GVAWAY,raviwarlord',\n",
       " 'https://www.codechef.com/status/CMPRSS,raviwarlord',\n",
       " 'https://www.codechef.com/status/USANBOLT,raviwarlord',\n",
       " 'https://www.codechef.com/status/UWCOI20A,raviwarlord',\n",
       " 'https://www.codechef.com/status/TEST,raviwarlord',\n",
       " 'https://www.codechef.com/status/FCTRL,raviwarlord',\n",
       " 'https://www.codechef.com/status/CIELAB,raviwarlord',\n",
       " 'https://www.codechef.com/status/HORSES,raviwarlord',\n",
       " 'https://www.codechef.com/status/MAXDIFF,raviwarlord',\n",
       " 'https://www.codechef.com/status/POPGATES,raviwarlord',\n",
       " 'https://www.codechef.com/OCT19B/status/S10E,raviwarlord',\n",
       " 'https://www.codechef.com/OCT19B/status/MARM,raviwarlord',\n",
       " 'https://www.codechef.com/COOK111B/status/MDL,raviwarlord',\n",
       " 'https://www.codechef.com/NOV19B/status/SC31,raviwarlord',\n",
       " 'https://www.codechef.com/NOV19B/status/HRDSEQ,raviwarlord',\n",
       " 'https://www.codechef.com/DEC19B/status/WATSCORE,raviwarlord',\n",
       " 'https://www.codechef.com/DEC19B/status/PLMU,raviwarlord',\n",
       " 'https://www.codechef.com/FEB20B/status/SNUG_FIT,raviwarlord',\n",
       " 'https://www.codechef.com/FEB20B/status/CASH,raviwarlord',\n",
       " 'https://www.codechef.com/MARCH20B/status/CHPINTU,raviwarlord',\n",
       " 'https://www.codechef.com/MARCH20B/status/ENGXOR,raviwarlord',\n",
       " 'https://www.codechef.com/MARCH20B/status/ADASHOP2,raviwarlord',\n",
       " 'https://www.codechef.com/COOK116B/status/GIFTSRC,raviwarlord',\n",
       " 'https://www.codechef.com/APRIL20B/status/COVIDLQ,raviwarlord',\n",
       " 'https://www.codechef.com/APRIL20B/status/CARSELL,raviwarlord',\n",
       " 'https://www.codechef.com/APRIL20B/status/STRNO,raviwarlord',\n",
       " 'https://www.codechef.com/APRIL20B/status/UNITGCD,raviwarlord',\n",
       " 'https://www.codechef.com/OCT19B/status/SAKTAN,raviwarlord',\n",
       " 'https://www.codechef.com/DEC19B/status/BINADD,raviwarlord',\n",
       " 'https://www.codechef.com/FEB20B/status/THEATRE,raviwarlord',\n",
       " 'https://www.codechef.com/MARCH20B/status/LAZER,raviwarlord',\n",
       " 'https://www.codechef.com/MARCH20B/status/BREAK,raviwarlord',\n",
       " 'https://www.codechef.com/GHC32020/status/XORSEQ,raviwarlord']"
      ]
     },
     "execution_count": 153,
     "metadata": {},
     "output_type": "execute_result"
    }
   ],
   "source": [
    "l"
   ]
  },
  {
   "cell_type": "code",
   "execution_count": null,
   "metadata": {},
   "outputs": [],
   "source": []
  }
 ],
 "metadata": {
  "kernelspec": {
   "display_name": "Python 3.7.6 64-bit",
   "language": "python",
   "name": "python37664bit1b02fe1bc4894dbc8f3c72d74f022c61"
  },
  "language_info": {
   "codemirror_mode": {
    "name": "ipython",
    "version": 3
   },
   "file_extension": ".py",
   "mimetype": "text/x-python",
   "name": "python",
   "nbconvert_exporter": "python",
   "pygments_lexer": "ipython3",
   "version": "3.7.6"
  }
 },
 "nbformat": 4,
 "nbformat_minor": 4
}
